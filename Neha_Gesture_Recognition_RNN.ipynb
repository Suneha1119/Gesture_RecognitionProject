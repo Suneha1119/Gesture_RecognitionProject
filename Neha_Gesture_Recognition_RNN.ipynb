{
  "nbformat": 4,
  "nbformat_minor": 0,
  "metadata": {
    "colab": {
      "provenance": [],
      "machine_shape": "hm",
      "gpuType": "A100"
    },
    "kernelspec": {
      "name": "python3",
      "display_name": "Python 3"
    },
    "language_info": {
      "name": "python"
    },
    "accelerator": "GPU"
  },
  "cells": [
    {
      "cell_type": "markdown",
      "source": [
        "**Gesture Recognition**\n",
        "\n",
        "In this group project, you are going to build a 3D Conv model that will be able to predict the 5 gestures correctly. Please import the following libraries to get started"
      ],
      "metadata": {
        "id": "zpTpEABFelvj"
      }
    },
    {
      "cell_type": "code",
      "execution_count": 1,
      "metadata": {
        "id": "N27mPXQbeej5"
      },
      "outputs": [],
      "source": [
        "import numpy as np\n",
        "import os\n",
        "import datetime\n",
        "import random as rn\n",
        "from keras import backend as K\n",
        "import tensorflow as tf\n",
        "import imageio.v2 as imageio"
      ]
    },
    {
      "cell_type": "markdown",
      "source": [
        "We set the random seed so that the results don't vary drastically."
      ],
      "metadata": {
        "id": "xW3CuEeGeydo"
      }
    },
    {
      "cell_type": "code",
      "source": [
        "rn.seed(30)\n",
        "np.random.seed(30)\n",
        "tf.random.set_seed(30)"
      ],
      "metadata": {
        "id": "2D1tcQAPezpP"
      },
      "execution_count": 2,
      "outputs": []
    },
    {
      "cell_type": "markdown",
      "source": [
        "In this block, you read the folder names for training and validation. You also set the batch_size here. Note that you set the batch size in such a way that you are able to use the GPU in full capacity. You keep increasing the batch size until the machine throws an error."
      ],
      "metadata": {
        "id": "UwQvXd7be3-v"
      }
    },
    {
      "cell_type": "markdown",
      "source": [
        "### initialisng the path where project data resides using colab"
      ],
      "metadata": {
        "id": "GRxYC6Ahffg-"
      }
    },
    {
      "cell_type": "code",
      "source": [
        "from google.colab import drive\n",
        "drive.mount('/content/gdrive')"
      ],
      "metadata": {
        "colab": {
          "base_uri": "https://localhost:8080/"
        },
        "id": "ipIf_HWme5ho",
        "outputId": "94c849ee-a123-441e-cdbe-ef5c72bdae48"
      },
      "execution_count": 3,
      "outputs": [
        {
          "output_type": "stream",
          "name": "stdout",
          "text": [
            "Mounted at /content/gdrive\n"
          ]
        }
      ]
    },
    {
      "cell_type": "code",
      "source": [
        "# the zip file is uploaded at my drive (extracting the zip file using below code)\n",
        "\n",
        "from zipfile import ZipFile\n",
        "with ZipFile('/content/gdrive/My Drive/Colab Notebooks/Project_data.zip','r') as zip:zip.extractall()"
      ],
      "metadata": {
        "id": "Kk7TuAUbfx7R"
      },
      "execution_count": 4,
      "outputs": []
    },
    {
      "cell_type": "code",
      "source": [
        "train_doc = np.random.permutation(open('./Project_data/train.csv').readlines())\n",
        "val_doc = np.random.permutation(open('./Project_data/val.csv').readlines())\n",
        "batch_size = 32"
      ],
      "metadata": {
        "id": "cX-f-otNgWVr"
      },
      "execution_count": 5,
      "outputs": []
    },
    {
      "cell_type": "markdown",
      "source": [
        "#**Generator**#\n",
        "\n",
        "This is one of the most important part of the code. The overall structure of the generator has been given. In the generator, you are going to preprocess the images as you have images of 2 different dimensions as well as create a batch of video frames. You have to experiment with img_idx, y,z and normalization such that you get high accuracy.\n"
      ],
      "metadata": {
        "id": "OSylwN3YgvsX"
      }
    },
    {
      "cell_type": "code",
      "source": [
        "def generator(source_path, folder_list, batch_size):\n",
        "\n",
        "    _height, _width, _step_size = 100, 100, 2\n",
        "    print( 'Source path = ', source_path, '; Batch size = ', batch_size)\n",
        "\n",
        "    img_idx = list(range(0, 30, _step_size))\n",
        "\n",
        "    while True:\n",
        "\n",
        "        t = np.random.permutation(folder_list)\n",
        "\n",
        "        num_batches = len(folder_list) // batch_size\n",
        "\n",
        "        for batch in range(num_batches): # we iterate over the number of batches\n",
        "            batch_data = np.zeros((batch_size,len(img_idx),_height,_width,3)) # x is the number of images you use for each video, (y,z) is the final size of the input images and 3 is the number of channels RGB\n",
        "            batch_labels = np.zeros((batch_size,5)) # batch_labels is the one hot representation of the output\n",
        "            for folder in range(batch_size): # iterate over the batch_size\n",
        "                imgs = os.listdir(source_path+'/'+ t[folder + (batch*batch_size)].split(';')[0]) # read all the images in the folder\n",
        "                for idx,item in enumerate(img_idx): #  Iterate iver the frames/images of a folder to read them in\n",
        "                    img_path = source_path+'/'+ t[folder + (batch*batch_size)].strip().split(';')[0]+'/'+imgs[item]\n",
        "                    image = imageio.imread(img_path).astype(np.float32)\n",
        "\n",
        "                    #crop the images and resize them. Note that the images are of 2 different shape\n",
        "                    image = image/255\n",
        "                    resize_image = tf.image.resize(image, [_height, _width])\n",
        "                    #image = image[int(h/2)-50:int(h/2)+50, int(w/2)-50:int(w/2)+50, : ]\n",
        "                    #and the conv3D will throw error if the inputs in a batch have different shapes\n",
        "\n",
        "                    batch_data[folder, idx] = resize_image\n",
        "\n",
        "                batch_labels[folder, int(t[folder + (batch*batch_size)].strip().split(';')[2])] = 1\n",
        "            yield batch_data, batch_labels #you yield the batch_data and the batch_labels, remember what does yield do\n",
        "\n",
        "\n",
        "        # write the code for the remaining data points which are left after full batches\n",
        "        num_stray_batches = len(folder_list) % batch_size\n",
        "\n",
        "        for batch in range(num_stray_batches): # we iterate over the number of batches\n",
        "            batch_data = np.zeros((num_stray_batches,len(img_idx),_height,_width,3)) # x is the number of images you use for each video, (y,z) is the final size of the input images and 3 is the number of channels RGB\n",
        "            batch_labels = np.zeros((num_stray_batches,5)) # batch_labels is the one hot representation of the output\n",
        "            for folder in range(num_stray_batches): # iterate over the batch_size\n",
        "                imgs = os.listdir(source_path+'/'+ t[folder + (batch*num_stray_batches)].split(';')[0]) # read all the images in the folder\n",
        "                for idx,item in enumerate(img_idx): #  Iterate iver the frames/images of a folder to read them in\n",
        "                    img_path = source_path+'/'+ t[folder + (batch*num_stray_batches)].strip().split(';')[0]+'/'+imgs[item]\n",
        "                    image = imageio.imread(img_path).astype(np.float32)\n",
        "\n",
        "                    #crop the images and resize them. Note that the images are of 2 different shape\n",
        "                    image = image/255\n",
        "                    resize_image = tf.image.resize(image, [_height, _width])\n",
        "                    #image = image[int(h/2)-50:int(h/2)+50, int(w/2)-50:int(w/2)+50, : ]\n",
        "                    #and the conv3D will throw error if the inputs in a batch have different shapes\n",
        "\n",
        "                    batch_data[folder, idx] = resize_image\n",
        "\n",
        "                batch_labels[folder, int(t[folder + (batch*num_stray_batches)].strip().split(';')[2])] = 1\n",
        "            yield batch_data, batch_labels #you yield the batch_data and the batch_labels, remember what does yield do"
      ],
      "metadata": {
        "id": "fPXgxuiegu2m"
      },
      "execution_count": 6,
      "outputs": []
    },
    {
      "cell_type": "markdown",
      "source": [
        "Note here that a video is represented above in the generator as (number of images, height, width, number of channels). Take this into consideration while creating the model architecture."
      ],
      "metadata": {
        "id": "qm7EjbTcg6Vv"
      }
    },
    {
      "cell_type": "code",
      "source": [
        "curr_dt_time = datetime.datetime.now()\n",
        "train_path = './Project_data/train'\n",
        "val_path = './Project_data/val'\n",
        "\n",
        "num_train_sequences = len(train_doc)\n",
        "print('# training sequences =', num_train_sequences)\n",
        "\n",
        "num_val_sequences = len(val_doc)\n",
        "print('# validation sequences =', num_val_sequences)\n",
        "\n",
        "num_epochs = 10\n",
        "print ('# epochs =', num_epochs)"
      ],
      "metadata": {
        "colab": {
          "base_uri": "https://localhost:8080/"
        },
        "id": "31xUBBPgg7QM",
        "outputId": "e21d1e2f-feaf-4f50-b428-162187f0ebab"
      },
      "execution_count": 7,
      "outputs": [
        {
          "output_type": "stream",
          "name": "stdout",
          "text": [
            "# training sequences = 663\n",
            "# validation sequences = 100\n",
            "# epochs = 10\n"
          ]
        }
      ]
    },
    {
      "cell_type": "markdown",
      "source": [
        "#**Model**#\n",
        "\n",
        "Here you make the model using different functionalities that Keras provides. Remember to use Conv3D and MaxPooling3D and not Conv2D and Maxpooling2D for a 3D convolution model. You would want to use TimeDistributed while building a Conv2D + RNN model. Also remember that the last layer is the softmax. Design the network in such a way that the model is able to give good accuracy on the least number of parameters so that it can fit in the memory of the webcam."
      ],
      "metadata": {
        "id": "9OHukKOog_Jr"
      }
    },
    {
      "cell_type": "code",
      "source": [
        "from keras.models import Sequential, Model\n",
        "from keras.layers import Dense, GRU, Flatten, TimeDistributed, Flatten, BatchNormalization, Activation, Conv3D, MaxPooling3D, ConvLSTM2D, Dropout\n",
        "from keras.callbacks import ModelCheckpoint, ReduceLROnPlateau\n",
        "from keras import optimizers\n",
        "\n",
        "model = Sequential([\n",
        "    ConvLSTM2D(\n",
        "        filters=32,\n",
        "        kernel_size=(3, 3),\n",
        "        input_shape=(15, 100, 100, 3),  # (num_frames, height, width, channels)\n",
        "        padding='same',\n",
        "        activation='relu',\n",
        "        return_sequences=False  # Set to True if stacking multiple ConvLSTM layers\n",
        "    ),\n",
        "    Flatten(),  # Flatten the 3D output to 1D for Dense layers\n",
        "    Dense(128, activation='relu'),  # Fully connected layer\n",
        "    Dropout(0.5),  # Helps stabilize training\n",
        "    Dense(5, activation='softmax')  # Output layer for 5 classes\n",
        "])"
      ],
      "metadata": {
        "colab": {
          "base_uri": "https://localhost:8080/"
        },
        "id": "yqbvfmcKg-90",
        "outputId": "0f64d4ae-1ca8-4f45-d4a0-14bb1318b379"
      },
      "execution_count": 8,
      "outputs": [
        {
          "output_type": "stream",
          "name": "stderr",
          "text": [
            "/usr/local/lib/python3.10/dist-packages/keras/src/layers/rnn/rnn.py:204: UserWarning: Do not pass an `input_shape`/`input_dim` argument to a layer. When using Sequential models, prefer using an `Input(shape)` object as the first layer in the model instead.\n",
            "  super().__init__(**kwargs)\n"
          ]
        }
      ]
    },
    {
      "cell_type": "markdown",
      "source": [
        "Now that you have written the model, the next step is to compile the model. When you print the summary of the model, you'll see the total number of parameters you have to train."
      ],
      "metadata": {
        "id": "mSz7t3FThHcF"
      }
    },
    {
      "cell_type": "code",
      "source": [
        "optimiser = 'adam'\n",
        "model.compile(optimizer=optimiser, loss='categorical_crossentropy', metrics=['categorical_accuracy'])\n",
        "print (model.summary())"
      ],
      "metadata": {
        "colab": {
          "base_uri": "https://localhost:8080/",
          "height": 306
        },
        "id": "0bsUlp7ehITX",
        "outputId": "e153efbd-8a8b-402c-dbca-95dcf97004bf"
      },
      "execution_count": 9,
      "outputs": [
        {
          "output_type": "display_data",
          "data": {
            "text/plain": [
              "\u001b[1mModel: \"sequential\"\u001b[0m\n"
            ],
            "text/html": [
              "<pre style=\"white-space:pre;overflow-x:auto;line-height:normal;font-family:Menlo,'DejaVu Sans Mono',consolas,'Courier New',monospace\"><span style=\"font-weight: bold\">Model: \"sequential\"</span>\n",
              "</pre>\n"
            ]
          },
          "metadata": {}
        },
        {
          "output_type": "display_data",
          "data": {
            "text/plain": [
              "┏━━━━━━━━━━━━━━━━━━━━━━━━━━━━━━━━━━━━━━┳━━━━━━━━━━━━━━━━━━━━━━━━━━━━━┳━━━━━━━━━━━━━━━━━┓\n",
              "┃\u001b[1m \u001b[0m\u001b[1mLayer (type)                        \u001b[0m\u001b[1m \u001b[0m┃\u001b[1m \u001b[0m\u001b[1mOutput Shape               \u001b[0m\u001b[1m \u001b[0m┃\u001b[1m \u001b[0m\u001b[1m        Param #\u001b[0m\u001b[1m \u001b[0m┃\n",
              "┡━━━━━━━━━━━━━━━━━━━━━━━━━━━━━━━━━━━━━━╇━━━━━━━━━━━━━━━━━━━━━━━━━━━━━╇━━━━━━━━━━━━━━━━━┩\n",
              "│ conv_lstm2d (\u001b[38;5;33mConvLSTM2D\u001b[0m)             │ (\u001b[38;5;45mNone\u001b[0m, \u001b[38;5;34m100\u001b[0m, \u001b[38;5;34m100\u001b[0m, \u001b[38;5;34m32\u001b[0m)        │          \u001b[38;5;34m40,448\u001b[0m │\n",
              "├──────────────────────────────────────┼─────────────────────────────┼─────────────────┤\n",
              "│ flatten (\u001b[38;5;33mFlatten\u001b[0m)                    │ (\u001b[38;5;45mNone\u001b[0m, \u001b[38;5;34m320000\u001b[0m)              │               \u001b[38;5;34m0\u001b[0m │\n",
              "├──────────────────────────────────────┼─────────────────────────────┼─────────────────┤\n",
              "│ dense (\u001b[38;5;33mDense\u001b[0m)                        │ (\u001b[38;5;45mNone\u001b[0m, \u001b[38;5;34m128\u001b[0m)                 │      \u001b[38;5;34m40,960,128\u001b[0m │\n",
              "├──────────────────────────────────────┼─────────────────────────────┼─────────────────┤\n",
              "│ dropout (\u001b[38;5;33mDropout\u001b[0m)                    │ (\u001b[38;5;45mNone\u001b[0m, \u001b[38;5;34m128\u001b[0m)                 │               \u001b[38;5;34m0\u001b[0m │\n",
              "├──────────────────────────────────────┼─────────────────────────────┼─────────────────┤\n",
              "│ dense_1 (\u001b[38;5;33mDense\u001b[0m)                      │ (\u001b[38;5;45mNone\u001b[0m, \u001b[38;5;34m5\u001b[0m)                   │             \u001b[38;5;34m645\u001b[0m │\n",
              "└──────────────────────────────────────┴─────────────────────────────┴─────────────────┘\n"
            ],
            "text/html": [
              "<pre style=\"white-space:pre;overflow-x:auto;line-height:normal;font-family:Menlo,'DejaVu Sans Mono',consolas,'Courier New',monospace\">┏━━━━━━━━━━━━━━━━━━━━━━━━━━━━━━━━━━━━━━┳━━━━━━━━━━━━━━━━━━━━━━━━━━━━━┳━━━━━━━━━━━━━━━━━┓\n",
              "┃<span style=\"font-weight: bold\"> Layer (type)                         </span>┃<span style=\"font-weight: bold\"> Output Shape                </span>┃<span style=\"font-weight: bold\">         Param # </span>┃\n",
              "┡━━━━━━━━━━━━━━━━━━━━━━━━━━━━━━━━━━━━━━╇━━━━━━━━━━━━━━━━━━━━━━━━━━━━━╇━━━━━━━━━━━━━━━━━┩\n",
              "│ conv_lstm2d (<span style=\"color: #0087ff; text-decoration-color: #0087ff\">ConvLSTM2D</span>)             │ (<span style=\"color: #00d7ff; text-decoration-color: #00d7ff\">None</span>, <span style=\"color: #00af00; text-decoration-color: #00af00\">100</span>, <span style=\"color: #00af00; text-decoration-color: #00af00\">100</span>, <span style=\"color: #00af00; text-decoration-color: #00af00\">32</span>)        │          <span style=\"color: #00af00; text-decoration-color: #00af00\">40,448</span> │\n",
              "├──────────────────────────────────────┼─────────────────────────────┼─────────────────┤\n",
              "│ flatten (<span style=\"color: #0087ff; text-decoration-color: #0087ff\">Flatten</span>)                    │ (<span style=\"color: #00d7ff; text-decoration-color: #00d7ff\">None</span>, <span style=\"color: #00af00; text-decoration-color: #00af00\">320000</span>)              │               <span style=\"color: #00af00; text-decoration-color: #00af00\">0</span> │\n",
              "├──────────────────────────────────────┼─────────────────────────────┼─────────────────┤\n",
              "│ dense (<span style=\"color: #0087ff; text-decoration-color: #0087ff\">Dense</span>)                        │ (<span style=\"color: #00d7ff; text-decoration-color: #00d7ff\">None</span>, <span style=\"color: #00af00; text-decoration-color: #00af00\">128</span>)                 │      <span style=\"color: #00af00; text-decoration-color: #00af00\">40,960,128</span> │\n",
              "├──────────────────────────────────────┼─────────────────────────────┼─────────────────┤\n",
              "│ dropout (<span style=\"color: #0087ff; text-decoration-color: #0087ff\">Dropout</span>)                    │ (<span style=\"color: #00d7ff; text-decoration-color: #00d7ff\">None</span>, <span style=\"color: #00af00; text-decoration-color: #00af00\">128</span>)                 │               <span style=\"color: #00af00; text-decoration-color: #00af00\">0</span> │\n",
              "├──────────────────────────────────────┼─────────────────────────────┼─────────────────┤\n",
              "│ dense_1 (<span style=\"color: #0087ff; text-decoration-color: #0087ff\">Dense</span>)                      │ (<span style=\"color: #00d7ff; text-decoration-color: #00d7ff\">None</span>, <span style=\"color: #00af00; text-decoration-color: #00af00\">5</span>)                   │             <span style=\"color: #00af00; text-decoration-color: #00af00\">645</span> │\n",
              "└──────────────────────────────────────┴─────────────────────────────┴─────────────────┘\n",
              "</pre>\n"
            ]
          },
          "metadata": {}
        },
        {
          "output_type": "display_data",
          "data": {
            "text/plain": [
              "\u001b[1m Total params: \u001b[0m\u001b[38;5;34m41,001,221\u001b[0m (156.41 MB)\n"
            ],
            "text/html": [
              "<pre style=\"white-space:pre;overflow-x:auto;line-height:normal;font-family:Menlo,'DejaVu Sans Mono',consolas,'Courier New',monospace\"><span style=\"font-weight: bold\"> Total params: </span><span style=\"color: #00af00; text-decoration-color: #00af00\">41,001,221</span> (156.41 MB)\n",
              "</pre>\n"
            ]
          },
          "metadata": {}
        },
        {
          "output_type": "display_data",
          "data": {
            "text/plain": [
              "\u001b[1m Trainable params: \u001b[0m\u001b[38;5;34m41,001,221\u001b[0m (156.41 MB)\n"
            ],
            "text/html": [
              "<pre style=\"white-space:pre;overflow-x:auto;line-height:normal;font-family:Menlo,'DejaVu Sans Mono',consolas,'Courier New',monospace\"><span style=\"font-weight: bold\"> Trainable params: </span><span style=\"color: #00af00; text-decoration-color: #00af00\">41,001,221</span> (156.41 MB)\n",
              "</pre>\n"
            ]
          },
          "metadata": {}
        },
        {
          "output_type": "display_data",
          "data": {
            "text/plain": [
              "\u001b[1m Non-trainable params: \u001b[0m\u001b[38;5;34m0\u001b[0m (0.00 B)\n"
            ],
            "text/html": [
              "<pre style=\"white-space:pre;overflow-x:auto;line-height:normal;font-family:Menlo,'DejaVu Sans Mono',consolas,'Courier New',monospace\"><span style=\"font-weight: bold\"> Non-trainable params: </span><span style=\"color: #00af00; text-decoration-color: #00af00\">0</span> (0.00 B)\n",
              "</pre>\n"
            ]
          },
          "metadata": {}
        },
        {
          "output_type": "stream",
          "name": "stdout",
          "text": [
            "None\n"
          ]
        }
      ]
    },
    {
      "cell_type": "markdown",
      "source": [
        "Let us create the train_generator and the val_generator which will be used in .fit_generator."
      ],
      "metadata": {
        "id": "5hOVz2MyhNI4"
      }
    },
    {
      "cell_type": "code",
      "source": [
        "train_generator = generator(train_path, train_doc, batch_size)\n",
        "val_generator = generator(val_path, val_doc, batch_size)"
      ],
      "metadata": {
        "id": "hyLPKJ_nhOIi"
      },
      "execution_count": 10,
      "outputs": []
    },
    {
      "cell_type": "code",
      "source": [
        "model_name = 'model_init' + '_' + str(curr_dt_time).replace(' ','').replace(':','_') + '/'\n",
        "\n",
        "if not os.path.exists(model_name):\n",
        "    os.mkdir(model_name)\n",
        "\n",
        "filepath = model_name + 'model-{epoch:05d}-{loss:.5f}-{categorical_accuracy:.5f}-{val_loss:.5f}-{val_categorical_accuracy:.5f}.keras'\n",
        "\n",
        "checkpoint = ModelCheckpoint(filepath, monitor='val_loss', verbose=1, save_best_only=False, save_weights_only=False, mode='auto')\n",
        "\n",
        "\n",
        "LR = tf.keras.callbacks.ReduceLROnPlateau( monitor=\"val_loss\", factor=0.5,\n",
        "           patience=1, verbose=1)\n",
        "\n",
        "callbacks_list = [checkpoint, LR]"
      ],
      "metadata": {
        "id": "WsqgeABGhdeO"
      },
      "execution_count": 11,
      "outputs": []
    },
    {
      "cell_type": "markdown",
      "source": [
        "The steps_per_epoch and validation_steps are used by fit_generator to decide the number of next() calls it need to make."
      ],
      "metadata": {
        "id": "wG2fhMe7hgPv"
      }
    },
    {
      "cell_type": "code",
      "source": [
        "if (num_train_sequences%batch_size) == 0:\n",
        "    steps_per_epoch = int(num_train_sequences/batch_size)\n",
        "else:\n",
        "    steps_per_epoch = (num_train_sequences//batch_size) + 1\n",
        "\n",
        "if (num_val_sequences%batch_size) == 0:\n",
        "    validation_steps = int(num_val_sequences/batch_size)\n",
        "else:\n",
        "    validation_steps = (num_val_sequences//batch_size) + 1"
      ],
      "metadata": {
        "id": "xfrTz5XvhhSp"
      },
      "execution_count": 12,
      "outputs": []
    },
    {
      "cell_type": "markdown",
      "source": [
        "Let us now fit the model. This will start training the model and with the help of the checkpoints, you'll be able to save the model at the end of each epoch."
      ],
      "metadata": {
        "id": "Ov2iUkE9hkvz"
      }
    },
    {
      "cell_type": "code",
      "source": [
        "model.fit(train_generator, steps_per_epoch=steps_per_epoch, epochs=num_epochs, verbose=1,\n",
        "                    callbacks=callbacks_list, validation_data=val_generator,\n",
        "                    validation_steps=validation_steps, class_weight=None, initial_epoch=0)"
      ],
      "metadata": {
        "colab": {
          "base_uri": "https://localhost:8080/"
        },
        "id": "q5B-_tKxhkf1",
        "outputId": "151a2552-f769-4440-d7d5-b97b8dda378e"
      },
      "execution_count": 13,
      "outputs": [
        {
          "output_type": "stream",
          "name": "stdout",
          "text": [
            "Source path =  ./Project_data/train ; Batch size =  32\n",
            "Epoch 1/10\n",
            "\u001b[1m21/21\u001b[0m \u001b[32m━━━━━━━━━━━━━━━━━━━━\u001b[0m\u001b[37m\u001b[0m \u001b[1m0s\u001b[0m 2s/step - categorical_accuracy: 0.1832 - loss: 8.1300Source path =  ./Project_data/val ; Batch size =  32\n",
            "\n",
            "Epoch 1: saving model to model_init_2024-12-3007_51_06.626704/model-00001-4.77445-0.19759-1.58820-0.25000.keras\n",
            "\u001b[1m21/21\u001b[0m \u001b[32m━━━━━━━━━━━━━━━━━━━━\u001b[0m\u001b[37m\u001b[0m \u001b[1m56s\u001b[0m 2s/step - categorical_accuracy: 0.1839 - loss: 7.9775 - val_categorical_accuracy: 0.2500 - val_loss: 1.5882 - learning_rate: 0.0010\n",
            "Epoch 2/10\n",
            "\u001b[1m21/21\u001b[0m \u001b[32m━━━━━━━━━━━━━━━━━━━━\u001b[0m\u001b[37m\u001b[0m \u001b[1m0s\u001b[0m 1s/step - categorical_accuracy: 0.2342 - loss: 1.5897\n",
            "Epoch 2: saving model to model_init_2024-12-3007_51_06.626704/model-00002-1.57779-0.25466-1.53340-0.61364.keras\n",
            "\u001b[1m21/21\u001b[0m \u001b[32m━━━━━━━━━━━━━━━━━━━━\u001b[0m\u001b[37m\u001b[0m \u001b[1m31s\u001b[0m 2s/step - categorical_accuracy: 0.2352 - loss: 1.5892 - val_categorical_accuracy: 0.6136 - val_loss: 1.5334 - learning_rate: 0.0010\n",
            "Epoch 3/10\n",
            "\u001b[1m21/21\u001b[0m \u001b[32m━━━━━━━━━━━━━━━━━━━━\u001b[0m\u001b[37m\u001b[0m \u001b[1m0s\u001b[0m 2s/step - categorical_accuracy: 0.3730 - loss: 1.4790\n",
            "Epoch 3: saving model to model_init_2024-12-3007_51_06.626704/model-00003-1.42717-0.39819-1.31258-0.50000.keras\n",
            "\u001b[1m21/21\u001b[0m \u001b[32m━━━━━━━━━━━━━━━━━━━━\u001b[0m\u001b[37m\u001b[0m \u001b[1m39s\u001b[0m 2s/step - categorical_accuracy: 0.3742 - loss: 1.4767 - val_categorical_accuracy: 0.5000 - val_loss: 1.3126 - learning_rate: 0.0010\n",
            "Epoch 4/10\n",
            "\u001b[1m21/21\u001b[0m \u001b[32m━━━━━━━━━━━━━━━━━━━━\u001b[0m\u001b[37m\u001b[0m \u001b[1m0s\u001b[0m 1s/step - categorical_accuracy: 0.5634 - loss: 1.1818\n",
            "Epoch 4: saving model to model_init_2024-12-3007_51_06.626704/model-00004-1.11459-0.57557-1.12598-0.58333.keras\n",
            "\u001b[1m21/21\u001b[0m \u001b[32m━━━━━━━━━━━━━━━━━━━━\u001b[0m\u001b[37m\u001b[0m \u001b[1m31s\u001b[0m 2s/step - categorical_accuracy: 0.5640 - loss: 1.1787 - val_categorical_accuracy: 0.5833 - val_loss: 1.1260 - learning_rate: 0.0010\n",
            "Epoch 5/10\n",
            "\u001b[1m21/21\u001b[0m \u001b[32m━━━━━━━━━━━━━━━━━━━━\u001b[0m\u001b[37m\u001b[0m \u001b[1m0s\u001b[0m 2s/step - categorical_accuracy: 0.6402 - loss: 0.9173\n",
            "Epoch 5: saving model to model_init_2024-12-3007_51_06.626704/model-00005-0.87187-0.66667-1.47634-0.59091.keras\n",
            "\n",
            "Epoch 5: ReduceLROnPlateau reducing learning rate to 0.0005000000237487257.\n",
            "\u001b[1m21/21\u001b[0m \u001b[32m━━━━━━━━━━━━━━━━━━━━\u001b[0m\u001b[37m\u001b[0m \u001b[1m40s\u001b[0m 2s/step - categorical_accuracy: 0.6414 - loss: 0.9153 - val_categorical_accuracy: 0.5909 - val_loss: 1.4763 - learning_rate: 0.0010\n",
            "Epoch 6/10\n",
            "\u001b[1m21/21\u001b[0m \u001b[32m━━━━━━━━━━━━━━━━━━━━\u001b[0m\u001b[37m\u001b[0m \u001b[1m0s\u001b[0m 1s/step - categorical_accuracy: 0.7621 - loss: 0.6981\n",
            "Epoch 6: saving model to model_init_2024-12-3007_51_06.626704/model-00006-0.68425-0.77236-1.35963-0.55000.keras\n",
            "\n",
            "Epoch 6: ReduceLROnPlateau reducing learning rate to 0.0002500000118743628.\n",
            "\u001b[1m21/21\u001b[0m \u001b[32m━━━━━━━━━━━━━━━━━━━━\u001b[0m\u001b[37m\u001b[0m \u001b[1m32s\u001b[0m 2s/step - categorical_accuracy: 0.7625 - loss: 0.6975 - val_categorical_accuracy: 0.5500 - val_loss: 1.3596 - learning_rate: 5.0000e-04\n",
            "Epoch 7/10\n",
            "\u001b[1m21/21\u001b[0m \u001b[32m━━━━━━━━━━━━━━━━━━━━\u001b[0m\u001b[37m\u001b[0m \u001b[1m0s\u001b[0m 2s/step - categorical_accuracy: 0.8133 - loss: 0.5742\n",
            "Epoch 7: saving model to model_init_2024-12-3007_51_06.626704/model-00007-0.59513-0.79535-1.22713-0.62500.keras\n",
            "\n",
            "Epoch 7: ReduceLROnPlateau reducing learning rate to 0.0001250000059371814.\n",
            "\u001b[1m21/21\u001b[0m \u001b[32m━━━━━━━━━━━━━━━━━━━━\u001b[0m\u001b[37m\u001b[0m \u001b[1m39s\u001b[0m 2s/step - categorical_accuracy: 0.8125 - loss: 0.5752 - val_categorical_accuracy: 0.6250 - val_loss: 1.2271 - learning_rate: 2.5000e-04\n",
            "Epoch 8/10\n",
            "\u001b[1m21/21\u001b[0m \u001b[32m━━━━━━━━━━━━━━━━━━━━\u001b[0m\u001b[37m\u001b[0m \u001b[1m0s\u001b[0m 1s/step - categorical_accuracy: 0.8514 - loss: 0.4730\n",
            "Epoch 8: saving model to model_init_2024-12-3007_51_06.626704/model-00008-0.46756-0.84830-1.75626-0.57000.keras\n",
            "\n",
            "Epoch 8: ReduceLROnPlateau reducing learning rate to 6.25000029685907e-05.\n",
            "\u001b[1m21/21\u001b[0m \u001b[32m━━━━━━━━━━━━━━━━━━━━\u001b[0m\u001b[37m\u001b[0m \u001b[1m33s\u001b[0m 2s/step - categorical_accuracy: 0.8513 - loss: 0.4728 - val_categorical_accuracy: 0.5700 - val_loss: 1.7563 - learning_rate: 1.2500e-04\n",
            "Epoch 9/10\n",
            "\u001b[1m21/21\u001b[0m \u001b[32m━━━━━━━━━━━━━━━━━━━━\u001b[0m\u001b[37m\u001b[0m \u001b[1m0s\u001b[0m 2s/step - categorical_accuracy: 0.8513 - loss: 0.4259\n",
            "Epoch 9: saving model to model_init_2024-12-3007_51_06.626704/model-00009-0.39842-0.85849-2.45497-0.47727.keras\n",
            "\n",
            "Epoch 9: ReduceLROnPlateau reducing learning rate to 3.125000148429535e-05.\n",
            "\u001b[1m21/21\u001b[0m \u001b[32m━━━━━━━━━━━━━━━━━━━━\u001b[0m\u001b[37m\u001b[0m \u001b[1m39s\u001b[0m 2s/step - categorical_accuracy: 0.8516 - loss: 0.4247 - val_categorical_accuracy: 0.4773 - val_loss: 2.4550 - learning_rate: 6.2500e-05\n",
            "Epoch 10/10\n",
            "\u001b[1m21/21\u001b[0m \u001b[32m━━━━━━━━━━━━━━━━━━━━\u001b[0m\u001b[37m\u001b[0m \u001b[1m0s\u001b[0m 1s/step - categorical_accuracy: 0.8495 - loss: 0.4146\n",
            "Epoch 10: saving model to model_init_2024-12-3007_51_06.626704/model-00010-0.41575-0.86275-1.66652-0.59722.keras\n",
            "\n",
            "Epoch 10: ReduceLROnPlateau reducing learning rate to 1.5625000742147677e-05.\n",
            "\u001b[1m21/21\u001b[0m \u001b[32m━━━━━━━━━━━━━━━━━━━━\u001b[0m\u001b[37m\u001b[0m \u001b[1m32s\u001b[0m 2s/step - categorical_accuracy: 0.8501 - loss: 0.4146 - val_categorical_accuracy: 0.5972 - val_loss: 1.6665 - learning_rate: 3.1250e-05\n"
          ]
        },
        {
          "output_type": "execute_result",
          "data": {
            "text/plain": [
              "<keras.src.callbacks.history.History at 0x7a9c94468a30>"
            ]
          },
          "metadata": {},
          "execution_count": 13
        }
      ]
    }
  ]
}